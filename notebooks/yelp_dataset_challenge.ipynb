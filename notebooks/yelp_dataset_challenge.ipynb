{
 "cells": [
  {
   "cell_type": "markdown",
   "metadata": {},
   "source": [
    "# Yelp Dataset Challenge\n",
    "\n",
    "Using data from the [Yelp Dataset Challenge](http://www.yelp.com/dataset_challenge/), demonstrate some data exploration and ideas for modeling.\n",
    "\n",
    "|file                               | type     |SizeMB| Records|\n",
    "|:----------------------------------|:---------|-----:|-------:|\n",
    "|yelp_academic_dataset_business.json| business |   53 |  61184 |\n",
    "|yelp_academic_dataset_checkin.json | checkin  |   20 |  45166 |\n",
    "|yelp_academic_dataset_review.json  | review   | 1300 |1569264 |\n",
    "|yelp_academic_dataset_tip.json     | tip      |   94 | 495107 |\n",
    "|yelp_academic_dataset_user.json    | user     |  158 | 366715 |\n",
    "\n"
   ]
  },
  {
   "cell_type": "markdown",
   "metadata": {},
   "source": [
    "## Potential applications of machine learning"
   ]
  },
  {
   "cell_type": "markdown",
   "metadata": {},
   "source": [
    "### Friends of friends and friends with common interests\n",
    "\n",
    "Friends could be recommended to users based on their existing social networks on the theory that friends of friends are likely to acquainted. This could be presented to the users as \"people you may know\" as is done in other social networks like Facebook and Linked-In. The use of [community detection algorithms](http://arxiv.org/abs/0908.1062) might prove interesting as well.\n",
    "\n",
    "The associations with businesses, categories of businesses, and ratings also offers the possibility of recommending users to follow based on common interests and geographic area."
   ]
  },
  {
   "cell_type": "markdown",
   "metadata": {},
   "source": [
    "### Recommendation of businesses to users\n",
    "\n",
    "Reviews, checkins and tips relate users to businesses. This information could be used to suggest specific businesses that a user may want to check out and potentially review based on a nearest-neighbors similarity to other businesses that the user has interacted with previously.\n",
    "\n",
    "For example, if a user reviewed or checked-in at several dive bars in Seattle, that user may be able to review other dive bars in the same area."
   ]
  },
  {
   "cell_type": "markdown",
   "metadata": {},
   "source": [
    "### Recommendation of users to businesses\n",
    "\n",
    "Businesses benefit from positive reviews and from feedback in general. It might be interesting to try to recommend users to businesses, either for promotions, advertising or directly soliciting them to \"tell us what you think\" via Yelp review."
   ]
  },
  {
   "cell_type": "markdown",
   "metadata": {},
   "source": [
    "### Natural language processing\n",
    "\n",
    "The data set contains a corpus of reviews labeled by users as being useful, funny, or cool and tips that can be 'liked'. This labeled data along with natural language processing derived features such as bag-of-words or word-to-vec could be used to predict the attributes of a review before they're labeled by users and surface quality content sooner. Similar techniques could also be used to spot spam and abusive content.\n"
   ]
  },
  {
   "cell_type": "markdown",
   "metadata": {},
   "source": [
    "## Data Exploration\n",
    "\n",
    "In this section, we'll explore the data and get familiar with some of it's properties."
   ]
  },
  {
   "cell_type": "code",
   "execution_count": 1,
   "metadata": {
    "collapsed": false
   },
   "outputs": [],
   "source": [
    "from __future__ import print_function\n",
    "from collections import Counter\n",
    "import numpy as np\n",
    "import pandas as pd\n",
    "from scipy import optimize\n",
    "import matplotlib.mlab as mlab\n",
    "import matplotlib.pyplot as plt\n",
    "%matplotlib inline"
   ]
  },
  {
   "cell_type": "code",
   "execution_count": 2,
   "metadata": {
    "collapsed": true
   },
   "outputs": [],
   "source": [
    "data_dir = \"/Users/CBare/Documents/projects/Yelp Dataset Challenge/yelp_dataset_challenge_academic_dataset\""
   ]
  },
  {
   "cell_type": "code",
   "execution_count": 3,
   "metadata": {
    "collapsed": false
   },
   "outputs": [
    {
     "name": "stdout",
     "output_type": "stream",
     "text": [
      "Read 366715 users\n"
     ]
    }
   ],
   "source": [
    "import json, os\n",
    "users = []\n",
    "with open(os.path.join(data_dir, 'yelp_academic_dataset_user.json')) as f:\n",
    "    for line in f:\n",
    "        users.append(json.loads(line))\n",
    "print(\"Read {count} users\".format(count=len(users)))"
   ]
  },
  {
   "cell_type": "code",
   "execution_count": 4,
   "metadata": {
    "collapsed": false
   },
   "outputs": [
    {
     "name": "stdout",
     "output_type": "stream",
     "text": [
      "Read 1569264 reviews\n"
     ]
    }
   ],
   "source": [
    "reviews = []\n",
    "with open(os.path.join(data_dir, 'yelp_academic_dataset_review.json')) as f:\n",
    "    for line in f:\n",
    "        reviews.append(json.loads(line))\n",
    "print(\"Read {count} reviews\".format(count=len(reviews)))"
   ]
  },
  {
   "cell_type": "code",
   "execution_count": 5,
   "metadata": {
    "collapsed": false
   },
   "outputs": [
    {
     "name": "stdout",
     "output_type": "stream",
     "text": [
      "Read 61184 businesses\n"
     ]
    }
   ],
   "source": [
    "businesses = []\n",
    "with open(os.path.join(data_dir, 'yelp_academic_dataset_business.json')) as f:\n",
    "    for line in f:\n",
    "        businesses.append(json.loads(line))\n",
    "print(\"Read {count} businesses\".format(count=len(businesses)))"
   ]
  },
  {
   "cell_type": "markdown",
   "metadata": {},
   "source": [
    "## Distribution of Friends\n",
    "\n",
    "Slightly over half of users in the data set have not defined any friends in Yelp. The distribution of number of friends follows a powerlaw distribution."
   ]
  },
  {
   "cell_type": "code",
   "execution_count": 6,
   "metadata": {
    "collapsed": false
   },
   "outputs": [
    {
     "name": "stdout",
     "output_type": "stream",
     "text": [
      "Counted 2576179 friend relationships\n"
     ]
    }
   ],
   "source": [
    "friend_counts = []\n",
    "for user in users:\n",
    "    friend_counts.append(len(user[\"friends\"]))\n",
    "print(\"Counted {count} friend relationships\".format(count=sum(friend_counts)))"
   ]
  },
  {
   "cell_type": "code",
   "execution_count": 7,
   "metadata": {
    "collapsed": false
   },
   "outputs": [
    {
     "name": "stdout",
     "output_type": "stream",
     "text": [
      "Fraction of users with no defined friends: 0.525\n"
     ]
    }
   ],
   "source": [
    "print(\"Fraction of users with no defined friends: %0.3f\" % \n",
    "      (len([c for c in friend_counts if c==0]) / float(len(friend_counts))))"
   ]
  },
  {
   "cell_type": "code",
   "execution_count": 8,
   "metadata": {
    "collapsed": true
   },
   "outputs": [],
   "source": [
    "nonzero_friend_counts = [c for c in friend_counts if c>0]"
   ]
  },
  {
   "cell_type": "code",
   "execution_count": 9,
   "metadata": {
    "collapsed": false,
    "scrolled": true
   },
   "outputs": [
    {
     "name": "stdout",
     "output_type": "stream",
     "text": [
      "n    = 174094\n",
      "mean = 14.7976323136\n",
      "sd   = 56.9098133599\n",
      "min  = 1\n",
      "10%  = 1.0\n",
      "25%  = 1.0\n",
      "50%  = 4.0\n",
      "75%  = 10.0\n",
      "90%  = 29.0\n",
      "max  = 3830\n"
     ]
    }
   ],
   "source": [
    "def summary(data):\n",
    "    print(\"n    = {n}\\n\"\n",
    "          \"mean = {mean}\\n\"\n",
    "          \"sd   = {sd}\\n\"\n",
    "          \"min  = {min}\\n\"\n",
    "          \"10%  = {p10}\\n\"\n",
    "          \"25%  = {p25}\\n\"\n",
    "          \"50%  = {p50}\\n\"\n",
    "          \"75%  = {p75}\\n\"\n",
    "          \"90%  = {p90}\\n\"\n",
    "          \"max  = {max}\".format(\n",
    "            n=len(data),\n",
    "            min=min(data),\n",
    "            p10=np.percentile(data, 10),\n",
    "            p25=np.percentile(data, 25),\n",
    "            p50=np.percentile(data, 50),\n",
    "            p75=np.percentile(data, 75),\n",
    "            p90=np.percentile(data, 90),\n",
    "            mean=np.mean(data),\n",
    "            sd=np.std(data),\n",
    "            max=max(data)))\n",
    "summary(nonzero_friend_counts)"
   ]
  },
  {
   "cell_type": "markdown",
   "metadata": {},
   "source": [
    "Code to fit to a powerlaw adapted from the [SciPy Cookbook's section on Fitting Data](http://scipy-cookbook.readthedocs.org/items/FittingData.html?highlight=powerlaw).\n"
   ]
  },
  {
   "cell_type": "code",
   "execution_count": 10,
   "metadata": {
    "collapsed": false
   },
   "outputs": [],
   "source": [
    "def powerlaw(p, x):\n",
    "    return p[0] * (x**p[1])\n",
    "\n",
    "def fitfunc(p,x):\n",
    "    return p[0] + p[1] * x \n",
    "\n",
    "def errfunc(p, x, y):\n",
    "    return (y - fitfunc(p, x))/ (fitfunc(p, x)+1)\n",
    "\n",
    "def fit_to_powerlaw(xs,ys):\n",
    "    logx = np.log10(np.maximum(np.ones(len(xs)),xs))\n",
    "    logy = np.log10(np.maximum(np.ones(len(ys)),ys))\n",
    "    pinit = [max(ys), -1.0]\n",
    "    out = optimize.leastsq(errfunc, pinit, args=(logx, logy), full_output=1)\n",
    "    pfinal = out[0]\n",
    "    index = pfinal[1]\n",
    "    amp = 10.0**pfinal[0]\n",
    "    return (amp, index)\n"
   ]
  },
  {
   "cell_type": "code",
   "execution_count": 11,
   "metadata": {
    "collapsed": false
   },
   "outputs": [
    {
     "name": "stdout",
     "output_type": "stream",
     "text": [
      "p= (1862027170.1582437, -2.6012503669386793)\n"
     ]
    },
    {
     "data": {
      "image/png": "[encoded data removed]",
      "text/plain": [
       "<matplotlib.figure.Figure at 0x10a34d090>"
      ]
     },
     "metadata": {},
     "output_type": "display_data"
    }
   ],
   "source": [
    "y, bins, patches = plt.hist(nonzero_friend_counts, 12, log=True, facecolor='#6699cc', alpha=0.45)\n",
    "\n",
    "p = fit_to_powerlaw(bins[:-1], y)\n",
    "print(\"p=\",p)\n",
    "plt.plot(bins, powerlaw(p, bins), 'g--', lw=2)\n",
    "\n",
    "plt.xlabel('Friends')\n",
    "plt.title('Histogram of number of friends')\n",
    "plt.grid(True)\n",
    "plt.show()"
   ]
  },
  {
   "cell_type": "markdown",
   "metadata": {},
   "source": [
    "## Distribution of Reviews per user\n",
    "\n",
    "The 366,715 users in the data set contributed over 11.8 million reviews of which we are given almost 1.6 million."
   ]
  },
  {
   "cell_type": "code",
   "execution_count": 12,
   "metadata": {
    "collapsed": false
   },
   "outputs": [
    {
     "name": "stdout",
     "output_type": "stream",
     "text": [
      "n    = 366715\n",
      "mean = 4.27924682655\n",
      "sd   = 15.0659659631\n",
      "min  = 1\n",
      "10%  = 1.0\n",
      "25%  = 1.0\n",
      "50%  = 1.0\n",
      "75%  = 3.0\n",
      "90%  = 8.0\n",
      "max  = 1427\n"
     ]
    }
   ],
   "source": [
    "user_review_count = {}\n",
    "for review in reviews:\n",
    "    user_id = review[\"user_id\"]\n",
    "    if user_id in user_review_count:\n",
    "        user_review_count[user_id] += 1\n",
    "    else:\n",
    "        user_review_count[user_id] = 1\n",
    "summary(user_review_count.values())"
   ]
  },
  {
   "cell_type": "code",
   "execution_count": 13,
   "metadata": {
    "collapsed": false
   },
   "outputs": [
    {
     "name": "stdout",
     "output_type": "stream",
     "text": [
      "n    = 366715\n",
      "mean = 32.214809866\n",
      "sd   = 94.8369353023\n",
      "min  = 0\n",
      "10%  = 1.0\n",
      "25%  = 2.0\n",
      "50%  = 6.0\n",
      "75%  = 21.0\n",
      "90%  = 74.0\n",
      "max  = 8843\n"
     ]
    }
   ],
   "source": [
    "summary([user['review_count'] for user in users])"
   ]
  },
  {
   "cell_type": "code",
   "execution_count": 14,
   "metadata": {
    "collapsed": false
   },
   "outputs": [
    {
     "data": {
      "text/plain": [
       "11813654"
      ]
     },
     "execution_count": 14,
     "metadata": {},
     "output_type": "execute_result"
    }
   ],
   "source": [
    "sum([user['review_count'] for user in users])"
   ]
  },
  {
   "cell_type": "code",
   "execution_count": 15,
   "metadata": {
    "collapsed": false
   },
   "outputs": [
    {
     "data": {
      "text/plain": [
       "1569264"
      ]
     },
     "execution_count": 15,
     "metadata": {},
     "output_type": "execute_result"
    }
   ],
   "source": [
    "sum(user_review_count.values())"
   ]
  },
  {
   "cell_type": "markdown",
   "metadata": {},
   "source": [
    "**Note**: There appears to be a discrepency in the counts of reviews, if my understanding of the data is correct. While we are not given all the reviews for the users included in the data set, we should not have more reviews in hand than the *review_count* field for a given user, but we do see this for over 3 thousand users. Please clarify before relying on the analysis that follows."
   ]
  },
  {
   "cell_type": "code",
   "execution_count": 16,
   "metadata": {
    "collapsed": false
   },
   "outputs": [
    {
     "data": {
      "text/plain": [
       "3072"
      ]
     },
     "execution_count": 16,
     "metadata": {},
     "output_type": "execute_result"
    }
   ],
   "source": [
    "len([user['user_id'] for user in users if user_review_count[user['user_id']] > user['review_count']])"
   ]
  },
  {
   "cell_type": "code",
   "execution_count": 17,
   "metadata": {
    "collapsed": false
   },
   "outputs": [
    {
     "name": "stdout",
     "output_type": "stream",
     "text": [
      "p= (392498.89197962644, -1.1635921908941222)\n"
     ]
    },
    {
     "data": {
      "image/png": "[encoded data removed]",
      "text/plain": [
       "<matplotlib.figure.Figure at 0x10351a5d0>"
      ]
     },
     "metadata": {},
     "output_type": "display_data"
    }
   ],
   "source": [
    "review_counts = [user['review_count'] for user in users if user['review_count']>0 and user['review_count']<100]\n",
    "y, bins, patches = plt.hist(review_counts, 16, log=True, facecolor='#6699cc', alpha=0.45)\n",
    "\n",
    "p = fit_to_powerlaw(bins[:-1], y)\n",
    "print(\"p=\",p)\n",
    "plt.plot(bins, powerlaw(p, bins), 'g--', lw=2)\n",
    "\n",
    "plt.xlabel('Count of reviews')\n",
    "plt.ylabel('Users')\n",
    "plt.title('Histogram of number of reviews')\n",
    "plt.grid(True)\n",
    "plt.axis([0, 100, 0, 250000])\n",
    "plt.show()"
   ]
  },
  {
   "cell_type": "code",
   "execution_count": 18,
   "metadata": {
    "collapsed": false
   },
   "outputs": [
    {
     "data": {
      "text/plain": [
       "27935"
      ]
     },
     "execution_count": 18,
     "metadata": {},
     "output_type": "execute_result"
    }
   ],
   "source": [
    "len([user['review_count'] for user in users if user['review_count']>100])"
   ]
  },
  {
   "cell_type": "markdown",
   "metadata": {},
   "source": [
    "### Elite users\n"
   ]
  },
  {
   "cell_type": "code",
   "execution_count": 19,
   "metadata": {
    "collapsed": false
   },
   "outputs": [],
   "source": [
    "review_count_by_elite_years = []\n",
    "for i in range(12):\n",
    "    review_count_by_elite_years.append([])\n",
    "for user in users:\n",
    "    elite_years = len(user['elite'])\n",
    "    review_count_by_elite_years[elite_years].append(user['review_count'])"
   ]
  },
  {
   "cell_type": "code",
   "execution_count": 20,
   "metadata": {
    "collapsed": false
   },
   "outputs": [
    {
     "name": "stdout",
     "output_type": "stream",
     "text": [
      "Of 366715 users, 25301 or 6.9% have at some time qualified for elite status.\n"
     ]
    }
   ],
   "source": [
    "elite = sum(len(review_count_by_elite_years[i]) for i in range(1,len(review_count_by_elite_years)))\n",
    "print(\"Of %d users, %d or %0.1f%% have at some time qualified for elite status.\" % (len(users), elite, float(elite)/float(len(users))*100.0))"
   ]
  },
  {
   "cell_type": "code",
   "execution_count": 21,
   "metadata": {
    "collapsed": false
   },
   "outputs": [
    {
     "name": "stdout",
     "output_type": "stream",
     "text": [
      " 0     16.4\n",
      " 1    118.0\n",
      " 2    146.0\n",
      " 3    205.7\n",
      " 4    278.9\n",
      " 5    357.0\n",
      " 6    454.8\n",
      " 7    563.7\n",
      " 8    715.1\n",
      " 9    780.1\n",
      "10   1081.4\n",
      "11   1702.9\n"
     ]
    }
   ],
   "source": [
    "for elite_years in range(len(review_count_by_elite_years)):\n",
    "    print(\"%2d %8.1f\" % (elite_years, np.mean(review_count_by_elite_years[elite_years])))"
   ]
  },
  {
   "cell_type": "code",
   "execution_count": 22,
   "metadata": {
    "collapsed": false
   },
   "outputs": [
    {
     "data": {
      "image/png": "[encoded data removed]",
      "text/plain": [
       "<matplotlib.figure.Figure at 0x216124f90>"
      ]
     },
     "metadata": {},
     "output_type": "display_data"
    }
   ],
   "source": [
    "plt.boxplot(review_count_by_elite_years)\n",
    "plt.axis([0,13,0,3000])\n",
    "plt.ylabel('reviews')\n",
    "plt.xlabel('years of elite status')\n",
    "plt.title('Number of reviews by elite status')\n",
    "plt.grid(True)\n",
    "plt.show()"
   ]
  },
  {
   "cell_type": "markdown",
   "metadata": {},
   "source": [
    "## Ratings\n",
    "\n",
    "People seem to review things they like. The distribution of ratings is heavily skewed towards 4 and 5 stars."
   ]
  },
  {
   "cell_type": "code",
   "execution_count": 23,
   "metadata": {
    "collapsed": false
   },
   "outputs": [
    {
     "data": {
      "image/png": "[encoded data removed]",
      "text/plain": [
       "<matplotlib.figure.Figure at 0x21b054350>"
      ]
     },
     "metadata": {},
     "output_type": "display_data"
    }
   ],
   "source": [
    "average_stars = [user['average_stars'] for user in users]\n",
    "y, bins, patches = plt.hist(average_stars, 5, facecolor='#6699cc', alpha=0.45)\n",
    "\n",
    "plt.xlabel('average stars given')\n",
    "plt.ylabel('users')\n",
    "plt.title('Histogram of average ratings')\n",
    "plt.grid(True)\n",
    "#plt.axis([0, 100, 0, 250000])\n",
    "plt.show()"
   ]
  },
  {
   "cell_type": "markdown",
   "metadata": {},
   "source": [
    "## Graph Analysis\n",
    "\n",
    "The following is the beginnings of a system for recommending potential friends in the Yelp dataset."
   ]
  },
  {
   "cell_type": "code",
   "execution_count": 24,
   "metadata": {
    "collapsed": true
   },
   "outputs": [],
   "source": [
    "from graphlab import SGraph, Vertex, Edge"
   ]
  },
  {
   "cell_type": "code",
   "execution_count": 25,
   "metadata": {
    "collapsed": false
   },
   "outputs": [],
   "source": [
    "vertices = []\n",
    "for user in users:\n",
    "    vertices.append(Vertex(user['user_id'], attr={\n",
    "                'name': user['name'],\n",
    "                'review_count': user['review_count'],\n",
    "                'average_stars': user['average_stars'],\n",
    "                'funny': user['votes']['funny'],\n",
    "                'useful': user['votes']['useful'],\n",
    "                'cool': user['votes']['cool']\n",
    "            }))"
   ]
  },
  {
   "cell_type": "code",
   "execution_count": 26,
   "metadata": {
    "collapsed": false
   },
   "outputs": [],
   "source": [
    "edges = []\n",
    "for user in users:\n",
    "    edges.extend([Edge(user['user_id'], friend_id) for friend_id in user['friends']])"
   ]
  },
  {
   "cell_type": "code",
   "execution_count": 27,
   "metadata": {
    "collapsed": false
   },
   "outputs": [
    {
     "name": "stderr",
     "output_type": "stream",
     "text": [
      "[INFO] \u001b[1;32m1452577171 : INFO:     (initialize_globals_from_environment:282): Setting configuration variable GRAPHLAB_FILEIO_ALTERNATIVE_SSL_CERT_FILE to /usr/local/lib/python2.7/site-packages/certifi/cacert.pem\n",
      "\u001b[0m\u001b[1;32m1452577171 : INFO:     (initialize_globals_from_environment:282): Setting configuration variable GRAPHLAB_FILEIO_ALTERNATIVE_SSL_CERT_DIR to \n",
      "\u001b[0mThis trial license of GraphLab Create is assigned to christopherbare+yoyodyne@gmail.com and will expire on February 10, 2016. Please contact trial@dato.com for licensing options or to request a free non-commercial license for personal or academic use.\n",
      "\n",
      "[INFO] Start server at: ipc:///tmp/graphlab_server-23043 - Server binary: /usr/local/lib/python2.7/site-packages/graphlab/unity_server - Server log: /tmp/graphlab_server_1452577171.log\n",
      "[INFO] GraphLab Server Version: 1.7.1\n"
     ]
    }
   ],
   "source": [
    "g = SGraph(vertices=vertices, edges=edges)"
   ]
  },
  {
   "cell_type": "code",
   "execution_count": 28,
   "metadata": {
    "collapsed": false
   },
   "outputs": [
    {
     "data": {
      "text/plain": [
       "{'num_edges': 2576179, 'num_vertices': 366715}"
      ]
     },
     "execution_count": 28,
     "metadata": {},
     "output_type": "execute_result"
    }
   ],
   "source": [
    "g.summary()"
   ]
  },
  {
   "cell_type": "code",
   "execution_count": 29,
   "metadata": {
    "collapsed": false
   },
   "outputs": [
    {
     "name": "stdout",
     "output_type": "stream",
     "text": [
      "PROGRESS: +-----------------------------+\n",
      "PROGRESS: | Number of components merged |\n",
      "PROGRESS: +-----------------------------+\n",
      "PROGRESS: | 171730                      |\n",
      "PROGRESS: | 0                           |\n",
      "PROGRESS: +-----------------------------+\n",
      "Class                                   : ConnectedComponentsModel\n",
      "\n",
      "Graph\n",
      "-----\n",
      "num_edges                               : 2576179\n",
      "num_vertices                            : 366715\n",
      "\n",
      "Results\n",
      "-------\n",
      "graph                                   : SGraph. See m['graph']\n",
      "component size                          : SFrame. See m['component_size']\n",
      "number of connected components          : 195049\n",
      "vertex component id                     : SFrame. See m['componentid']\n",
      "\n",
      "Metrics\n",
      "-------\n",
      "training time (secs)                    : 2.5834\n",
      "\n",
      "Queryable Fields\n",
      "----------------\n",
      "graph                                   : A new SGraph with the color id as a vertex property\n",
      "component_id                            : An SFrame with each vertex's component id\n",
      "component_size                          : An SFrame with the size of each component\n",
      "training_time                           : Total training time of the model\n",
      "\n",
      "Connected components summary:\n",
      " None\n"
     ]
    }
   ],
   "source": [
    "import graphlab\n",
    "cc = graphlab.connected_components.create(g, verbose=True)\n",
    "print(\"Connected components summary:\\n\", cc.summary())"
   ]
  },
  {
   "cell_type": "code",
   "execution_count": 30,
   "metadata": {
    "collapsed": false
   },
   "outputs": [
    {
     "name": "stdout",
     "output_type": "stream",
     "text": [
      "+--------------+--------+\n",
      "| component_id | Count  |\n",
      "+--------------+--------+\n",
      "|    12825     | 168923 |\n",
      "|    59419     |   8    |\n",
      "|    112427    |   6    |\n",
      "|     3001     |   5    |\n",
      "|    116536    |   5    |\n",
      "|    180267    |   5    |\n",
      "|    121022    |   5    |\n",
      "|    162518    |   5    |\n",
      "|    124689    |   5    |\n",
      "|    125091    |   5    |\n",
      "+--------------+--------+\n",
      "[195049 rows x 2 columns]\n",
      "Note: Only the head of the SFrame is printed.\n",
      "You can use print_rows(num_rows=m, num_columns=n) to print more rows and columns.\n"
     ]
    }
   ],
   "source": [
    "cc_size = cc['component_size'].sort('Count', ascending=False)\n",
    "print(cc_size)"
   ]
  },
  {
   "cell_type": "code",
   "execution_count": 31,
   "metadata": {
    "collapsed": false
   },
   "outputs": [
    {
     "data": {
      "application/javascript": [
       "$(\"head\").append($(\"<link/>\").attr({\n",
       "  rel:  \"stylesheet\",\n",
       "  type: \"text/css\",\n",
       "  href: \"//cdnjs.cloudflare.com/ajax/libs/font-awesome/4.1.0/css/font-awesome.min.css\"\n",
       "}));\n",
       "$(\"head\").append($(\"<link/>\").attr({\n",
       "  rel:  \"stylesheet\",\n",
       "  type: \"text/css\",\n",
       "  href: \"//dato.com/files/canvas/1.7.1/css/canvas.css\"\n",
       "}));\n",
       "\n",
       "            (function(){\n",
       "\n",
       "                var e = null;\n",
       "                if (typeof element == 'undefined') {\n",
       "                    var scripts = document.getElementsByTagName('script');\n",
       "                    var thisScriptTag = scripts[scripts.length-1];\n",
       "                    var parentDiv = thisScriptTag.parentNode;\n",
       "                    e = document.createElement('div');\n",
       "                    parentDiv.appendChild(e);\n",
       "                } else {\n",
       "                    e = element[0];\n",
       "                }\n",
       "\n",
       "                if (typeof requirejs !== 'undefined') {\n",
       "                    // disable load timeout; ipython_app.js is large and can take a while to load.\n",
       "                    requirejs.config({waitSeconds: 0});\n",
       "                }\n",
       "\n",
       "                require(['//dato.com/files/canvas/1.7.1/js/ipython_app.js'], function(IPythonApp){\n",
       "                    var app = new IPythonApp();\n",
       "                    app.attachView('sgraph','View', {\"edges_labels\": null, \"selected_variable\": {\"name\": [\"subgraph\"], \"view_file\": \"sgraph\", \"view_component\": \"View\", \"view_params\": {\"elabel_hover\": false, \"vertex_positions\": null, \"h_offset\": 0.0, \"node_size\": 300, \"ecolor\": [0.37, 0.33, 0.33], \"elabel\": null, \"arrows\": false, \"ewidth\": 1, \"vlabel\": \"name\", \"highlight_color\": [0.69, 0.0, 0.498], \"vcolor\": [0.522, 0.741, 0.0], \"vlabel_hover\": false, \"highlight\": {}, \"v_offset\": 0.03}, \"view_components\": [\"View\"], \"type\": \"SGraph\", \"descriptives_links\": {\"edges\": \"edges\", \"vertices\": \"vertices\"}, \"descriptives\": {\"edges\": 16, \"vertices\": 8}}, \"positions\": null, \"error_type\": 0, \"vertices\": [\"u2gdoVRZAtxJffFpUieVnQ\", \"DBem3WuXCQCzHUTdbF6eqQ\", \"7drN4gKbZYR2vKpEdFtq7A\", \"kNnnT0k9PL2nR5ISBUW-9A\", \"6zxxb7vmU6QJvaCg_X3_sg\", \"9ki_-I7oW6YxnUZBCmxs5Q\", \"D1PrAo_aoSFHPyCMCXA-Ow\", \"Vw8Jx3gD_fvoGTLo0sUCOg\"], \"vertices_labels\": [\"Prashant\", \"Sachin\", \"Ajinkya\", \"Mayur\", \"Swapnil\", \"Vishwas\", \"Michael\", \"Neilesh\"], \"edges\": [[\"DBem3WuXCQCzHUTdbF6eqQ\", \"kNnnT0k9PL2nR5ISBUW-9A\"], [\"DBem3WuXCQCzHUTdbF6eqQ\", \"6zxxb7vmU6QJvaCg_X3_sg\"], [\"u2gdoVRZAtxJffFpUieVnQ\", \"6zxxb7vmU6QJvaCg_X3_sg\"], [\"7drN4gKbZYR2vKpEdFtq7A\", \"6zxxb7vmU6QJvaCg_X3_sg\"], [\"kNnnT0k9PL2nR5ISBUW-9A\", \"DBem3WuXCQCzHUTdbF6eqQ\"], [\"kNnnT0k9PL2nR5ISBUW-9A\", \"6zxxb7vmU6QJvaCg_X3_sg\"], [\"6zxxb7vmU6QJvaCg_X3_sg\", \"DBem3WuXCQCzHUTdbF6eqQ\"], [\"6zxxb7vmU6QJvaCg_X3_sg\", \"u2gdoVRZAtxJffFpUieVnQ\"], [\"6zxxb7vmU6QJvaCg_X3_sg\", \"7drN4gKbZYR2vKpEdFtq7A\"], [\"6zxxb7vmU6QJvaCg_X3_sg\", \"kNnnT0k9PL2nR5ISBUW-9A\"], [\"6zxxb7vmU6QJvaCg_X3_sg\", \"9ki_-I7oW6YxnUZBCmxs5Q\"], [\"9ki_-I7oW6YxnUZBCmxs5Q\", \"6zxxb7vmU6QJvaCg_X3_sg\"], [\"6zxxb7vmU6QJvaCg_X3_sg\", \"D1PrAo_aoSFHPyCMCXA-Ow\"], [\"6zxxb7vmU6QJvaCg_X3_sg\", \"Vw8Jx3gD_fvoGTLo0sUCOg\"], [\"D1PrAo_aoSFHPyCMCXA-Ow\", \"6zxxb7vmU6QJvaCg_X3_sg\"], [\"Vw8Jx3gD_fvoGTLo0sUCOg\", \"6zxxb7vmU6QJvaCg_X3_sg\"]], \"ipython\": true, \"error_msg\": \"\"}, e);\n",
       "                });\n",
       "            })();\n",
       "        "
      ]
     },
     "metadata": {},
     "output_type": "display_data"
    }
   ],
   "source": [
    "cc_out = cc['component_id']\n",
    "tgt = cc_size['component_id'][1]\n",
    "tgt_ids = cc_out[cc_out['component_id'] == tgt]['__id']\n",
    "\n",
    "subgraph = graphlab.SGraph()\n",
    "subgraph = subgraph.add_vertices(g.get_vertices(tgt_ids))\n",
    "subgraph = subgraph.add_edges(g.get_edges(src_ids=tgt_ids),\n",
    "                              src_field='__src_id', dst_field='__dst_id')\n",
    "graphlab.canvas.set_target('ipynb')\n",
    "subgraph.show(vlabel='name')"
   ]
  },
  {
   "cell_type": "code",
   "execution_count": 70,
   "metadata": {
    "collapsed": false
   },
   "outputs": [
    {
     "data": {
      "text/plain": [
       "{'num_edges': 126, 'num_vertices': 48}"
      ]
     },
     "execution_count": 70,
     "metadata": {},
     "output_type": "execute_result"
    }
   ],
   "source": [
    "tgt = cc_size['component_id'][0]\n",
    "tgt_ids = cc_out[cc_out['component_id'] == tgt]['__id']\n",
    "neighborhood = g.get_neighborhood(tgt_ids[112], 2)\n",
    "neighborhood.summary()"
   ]
  },
  {
   "cell_type": "code",
   "execution_count": 71,
   "metadata": {
    "collapsed": false
   },
   "outputs": [
    {
     "data": {
      "application/javascript": [
       "$(\"head\").append($(\"<link/>\").attr({\n",
       "  rel:  \"stylesheet\",\n",
       "  type: \"text/css\",\n",
       "  href: \"//cdnjs.cloudflare.com/ajax/libs/font-awesome/4.1.0/css/font-awesome.min.css\"\n",
       "}));\n",
       "$(\"head\").append($(\"<link/>\").attr({\n",
       "  rel:  \"stylesheet\",\n",
       "  type: \"text/css\",\n",
       "  href: \"//dato.com/files/canvas/1.7.1/css/canvas.css\"\n",
       "}));\n",
       "\n",
       "            (function(){\n",
       "\n",
       "                var e = null;\n",
       "                if (typeof element == 'undefined') {\n",
       "                    var scripts = document.getElementsByTagName('script');\n",
       "                    var thisScriptTag = scripts[scripts.length-1];\n",
       "                    var parentDiv = thisScriptTag.parentNode;\n",
       "                    e = document.createElement('div');\n",
       "                    parentDiv.appendChild(e);\n",
       "                } else {\n",
       "                    e = element[0];\n",
       "                }\n",
       "\n",
       "                if (typeof requirejs !== 'undefined') {\n",
       "                    // disable load timeout; ipython_app.js is large and can take a while to load.\n",
       "                    requirejs.config({waitSeconds: 0});\n",
       "                }\n",
       "\n",
       "                require(['//dato.com/files/canvas/1.7.1/js/ipython_app.js'], function(IPythonApp){\n",
       "                    var app = new IPythonApp();\n",
       "                    app.attachView('sgraph','View', {\"edges_labels\": null, \"selected_variable\": {\"name\": [\"neighborhood\"], \"view_file\": \"sgraph\", \"view_component\": \"View\", \"view_params\": {\"elabel_hover\": false, \"vertex_positions\": null, \"h_offset\": 0.0, \"node_size\": 300, \"ecolor\": [0.37, 0.33, 0.33], \"elabel\": null, \"arrows\": false, \"ewidth\": 1, \"vlabel\": \"name\", \"highlight_color\": [0.69, 0.0, 0.498], \"vcolor\": [0.522, 0.741, 0.0], \"vlabel_hover\": false, \"highlight\": {}, \"v_offset\": 0.03}, \"view_components\": [\"View\"], \"type\": \"SGraph\", \"descriptives_links\": {\"edges\": \"edges\", \"vertices\": \"vertices\"}, \"descriptives\": {\"edges\": 126, \"vertices\": 48}}, \"positions\": null, \"error_type\": 0, \"vertices\": [\"qREmpMNVpYt7ouZWld2cwQ\", \"vX__ty7oB1IG_Hlmo8EVag\", \"377CDhtGrgoNNEnEhf6Ccw\", \"WByuGkhH7rfsXPABfjTR6w\", \"9YVJtEzVfjfNujAfy0ysHg\", \"SnN0hLURIxXacM44_IvIKA\", \"GAVzEV0a4RygTyVJcEShUw\", \"SlEhu1S3eCAEbIJh0RbM1Q\", \"qixX5KoGOUTvizEV_rAQHA\", \"pCobXgTy6DIfBaT4pjlq0w\", \"l0ihHjc6EZTlb9rM0AiEMw\", \"pjoghjb0ZcuDWHvz02dSVA\", \"SNIYfLgfKkqKqy4USOlQAA\", \"6HuuRRDab78C32H2pbpQPg\", \"0pTaSNIkYYwe4F7FOrJ0QA\", \"NGa2YV8ijDUBxIv8xBZmGA\", \"CeV7VgnQEUzMjNlLbGg33g\", \"Ostnnvh3RRvKqlMPSwo-ow\", \"ULZvYPzGjF_ZQXmN0qJfOg\", \"kilyteUGkGM993c23SRAMg\", \"IvT2oMfYzNCnyCLF0gxXhg\", \"v4XMdJX21V_si2L_zwqs9g\", \"Aiywi3Up01jRi5tX9HV-sg\", \"qHhQT9p6D7zTLCz8guxqMw\", \"5tEbJsOjhyPa09hQul6Q2g\", \"7GFqrd_orxYriKFhCsz31w\", \"jruKEmQpEQdxkE61G8FAnw\", \"JekKDFLO62Hb6VhcnhtnnA\", \"YixspfOM2qqv2WWG9GpEyA\", \"WEaoeOWgvXaZL94c-F88FA\", \"30XxHVhSKcEZPc2BSqQreg\", \"plKWWv3fYzFD54aE6FkjzQ\", \"PlMWfmfy13RCzge897rTyA\", \"AiuxEpAxjPN7ciIrNupyWA\", \"fb13UGoXDWaE-WNP4aZb_w\", \"Ra5lsXTCyGXdwwwrHm_q8Q\", \"mBJMFU3OrGVSUGhKR-kZOQ\", \"y31MzuqZonk93go5ZCm4Hw\", \"sZsvhGVfeORpkbiH5RP6JA\", \"x4jHWeB0qxaVTKhXRHnwhQ\", \"veyio8Ak-yTXEfE6ipRrjw\", \"3Axd355bo79I80C-_l2v9A\", \"jetrzGo90Sya45AmVURG7Q\", \"cRyNICH0mhjxagvSyVr60Q\", \"R0nLKkdi3qbRgfD4eYXq8g\", \"qnM6AKaO3_QMkaGxaFyp_w\", \"VdbpzwKSjYlntgyUEI_hqw\", \"ZrYCO-E76miWES5u2Pmc6A\"], \"vertices_labels\": [\"L\", \"Rosey\", \"Mimi\", \"David\", \"Casey\", \"David\", \"Siemny\", \"Heather\", \"Lisa\", \"David\", \"Steve\", \"Taylor\", \"Rene\", \"Renier\", \"Lucas\", \"Frank\", \"Signing\", \"Nick\", \"Jesse\", \"Chris\", \"Kyle\", \"Iqrah\", \"Randy\", \"Mazda\", \"Casey\", \"Jenna\", \"Annika\", \"Chasity\", \"Melissa\", \"Dale\", \"Jeff\", \"Bobby\", \"Marcie\", \"McKenzie\", \"Peter\", \"Steve\", \"Enrique\", \"Chris\", \"D\", \"Erik\", \"Jacqui\", \"Dave\", \"Junior\", \"Jon\", \"Leslie\", \"Aaron\", \"Bree\", \"Molly\"], \"edges\": [[\"pCobXgTy6DIfBaT4pjlq0w\", \"GAVzEV0a4RygTyVJcEShUw\"], [\"SnN0hLURIxXacM44_IvIKA\", \"WByuGkhH7rfsXPABfjTR6w\"], [\"GAVzEV0a4RygTyVJcEShUw\", \"pCobXgTy6DIfBaT4pjlq0w\"], [\"WByuGkhH7rfsXPABfjTR6w\", \"SnN0hLURIxXacM44_IvIKA\"], [\"SnN0hLURIxXacM44_IvIKA\", \"SNIYfLgfKkqKqy4USOlQAA\"], [\"qixX5KoGOUTvizEV_rAQHA\", \"SNIYfLgfKkqKqy4USOlQAA\"], [\"vX__ty7oB1IG_Hlmo8EVag\", \"SNIYfLgfKkqKqy4USOlQAA\"], [\"GAVzEV0a4RygTyVJcEShUw\", \"Ostnnvh3RRvKqlMPSwo-ow\"], [\"SnN0hLURIxXacM44_IvIKA\", \"Aiywi3Up01jRi5tX9HV-sg\"], [\"377CDhtGrgoNNEnEhf6Ccw\", \"Aiywi3Up01jRi5tX9HV-sg\"], [\"9YVJtEzVfjfNujAfy0ysHg\", \"Aiywi3Up01jRi5tX9HV-sg\"], [\"377CDhtGrgoNNEnEhf6Ccw\", \"5tEbJsOjhyPa09hQul6Q2g\"], [\"SnN0hLURIxXacM44_IvIKA\", \"plKWWv3fYzFD54aE6FkjzQ\"], [\"377CDhtGrgoNNEnEhf6Ccw\", \"AiuxEpAxjPN7ciIrNupyWA\"], [\"SnN0hLURIxXacM44_IvIKA\", \"sZsvhGVfeORpkbiH5RP6JA\"], [\"qREmpMNVpYt7ouZWld2cwQ\", \"mBJMFU3OrGVSUGhKR-kZOQ\"], [\"pCobXgTy6DIfBaT4pjlq0w\", \"mBJMFU3OrGVSUGhKR-kZOQ\"], [\"SnN0hLURIxXacM44_IvIKA\", \"mBJMFU3OrGVSUGhKR-kZOQ\"], [\"SlEhu1S3eCAEbIJh0RbM1Q\", \"mBJMFU3OrGVSUGhKR-kZOQ\"], [\"GAVzEV0a4RygTyVJcEShUw\", \"mBJMFU3OrGVSUGhKR-kZOQ\"], [\"377CDhtGrgoNNEnEhf6Ccw\", \"veyio8Ak-yTXEfE6ipRrjw\"], [\"SNIYfLgfKkqKqy4USOlQAA\", \"vX__ty7oB1IG_Hlmo8EVag\"], [\"SNIYfLgfKkqKqy4USOlQAA\", \"SnN0hLURIxXacM44_IvIKA\"], [\"SNIYfLgfKkqKqy4USOlQAA\", \"qixX5KoGOUTvizEV_rAQHA\"], [\"0pTaSNIkYYwe4F7FOrJ0QA\", \"Aiywi3Up01jRi5tX9HV-sg\"], [\"0pTaSNIkYYwe4F7FOrJ0QA\", \"5tEbJsOjhyPa09hQul6Q2g\"], [\"NGa2YV8ijDUBxIv8xBZmGA\", \"v4XMdJX21V_si2L_zwqs9g\"], [\"0pTaSNIkYYwe4F7FOrJ0QA\", \"AiuxEpAxjPN7ciIrNupyWA\"], [\"l0ihHjc6EZTlb9rM0AiEMw\", \"plKWWv3fYzFD54aE6FkjzQ\"], [\"6HuuRRDab78C32H2pbpQPg\", \"YixspfOM2qqv2WWG9GpEyA\"], [\"CeV7VgnQEUzMjNlLbGg33g\", \"plKWWv3fYzFD54aE6FkjzQ\"], [\"6HuuRRDab78C32H2pbpQPg\", \"plKWWv3fYzFD54aE6FkjzQ\"], [\"NGa2YV8ijDUBxIv8xBZmGA\", \"mBJMFU3OrGVSUGhKR-kZOQ\"], [\"pjoghjb0ZcuDWHvz02dSVA\", \"mBJMFU3OrGVSUGhKR-kZOQ\"], [\"Ostnnvh3RRvKqlMPSwo-ow\", \"GAVzEV0a4RygTyVJcEShUw\"], [\"IvT2oMfYzNCnyCLF0gxXhg\", \"Aiywi3Up01jRi5tX9HV-sg\"], [\"ULZvYPzGjF_ZQXmN0qJfOg\", \"sZsvhGVfeORpkbiH5RP6JA\"], [\"kilyteUGkGM993c23SRAMg\", \"mBJMFU3OrGVSUGhKR-kZOQ\"], [\"Ostnnvh3RRvKqlMPSwo-ow\", \"mBJMFU3OrGVSUGhKR-kZOQ\"], [\"5tEbJsOjhyPa09hQul6Q2g\", \"377CDhtGrgoNNEnEhf6Ccw\"], [\"Aiywi3Up01jRi5tX9HV-sg\", \"SnN0hLURIxXacM44_IvIKA\"], [\"Aiywi3Up01jRi5tX9HV-sg\", \"377CDhtGrgoNNEnEhf6Ccw\"], [\"Aiywi3Up01jRi5tX9HV-sg\", \"9YVJtEzVfjfNujAfy0ysHg\"], [\"5tEbJsOjhyPa09hQul6Q2g\", \"0pTaSNIkYYwe4F7FOrJ0QA\"], [\"v4XMdJX21V_si2L_zwqs9g\", \"NGa2YV8ijDUBxIv8xBZmGA\"], [\"Aiywi3Up01jRi5tX9HV-sg\", \"0pTaSNIkYYwe4F7FOrJ0QA\"], [\"Aiywi3Up01jRi5tX9HV-sg\", \"IvT2oMfYzNCnyCLF0gxXhg\"], [\"5tEbJsOjhyPa09hQul6Q2g\", \"Aiywi3Up01jRi5tX9HV-sg\"], [\"Aiywi3Up01jRi5tX9HV-sg\", \"7GFqrd_orxYriKFhCsz31w\"], [\"7GFqrd_orxYriKFhCsz31w\", \"Aiywi3Up01jRi5tX9HV-sg\"], [\"Aiywi3Up01jRi5tX9HV-sg\", \"5tEbJsOjhyPa09hQul6Q2g\"], [\"5tEbJsOjhyPa09hQul6Q2g\", \"AiuxEpAxjPN7ciIrNupyWA\"], [\"jruKEmQpEQdxkE61G8FAnw\", \"plKWWv3fYzFD54aE6FkjzQ\"], [\"Aiywi3Up01jRi5tX9HV-sg\", \"AiuxEpAxjPN7ciIrNupyWA\"], [\"qHhQT9p6D7zTLCz8guxqMw\", \"mBJMFU3OrGVSUGhKR-kZOQ\"], [\"Aiywi3Up01jRi5tX9HV-sg\", \"Ra5lsXTCyGXdwwwrHm_q8Q\"], [\"v4XMdJX21V_si2L_zwqs9g\", \"mBJMFU3OrGVSUGhKR-kZOQ\"], [\"Aiywi3Up01jRi5tX9HV-sg\", \"cRyNICH0mhjxagvSyVr60Q\"], [\"Aiywi3Up01jRi5tX9HV-sg\", \"ZrYCO-E76miWES5u2Pmc6A\"], [\"plKWWv3fYzFD54aE6FkjzQ\", \"SnN0hLURIxXacM44_IvIKA\"], [\"AiuxEpAxjPN7ciIrNupyWA\", \"377CDhtGrgoNNEnEhf6Ccw\"], [\"plKWWv3fYzFD54aE6FkjzQ\", \"CeV7VgnQEUzMjNlLbGg33g\"], [\"plKWWv3fYzFD54aE6FkjzQ\", \"6HuuRRDab78C32H2pbpQPg\"], [\"plKWWv3fYzFD54aE6FkjzQ\", \"l0ihHjc6EZTlb9rM0AiEMw\"], [\"AiuxEpAxjPN7ciIrNupyWA\", \"0pTaSNIkYYwe4F7FOrJ0QA\"], [\"YixspfOM2qqv2WWG9GpEyA\", \"6HuuRRDab78C32H2pbpQPg\"], [\"plKWWv3fYzFD54aE6FkjzQ\", \"jruKEmQpEQdxkE61G8FAnw\"], [\"AiuxEpAxjPN7ciIrNupyWA\", \"5tEbJsOjhyPa09hQul6Q2g\"], [\"AiuxEpAxjPN7ciIrNupyWA\", \"Aiywi3Up01jRi5tX9HV-sg\"], [\"plKWWv3fYzFD54aE6FkjzQ\", \"30XxHVhSKcEZPc2BSqQreg\"], [\"30XxHVhSKcEZPc2BSqQreg\", \"plKWWv3fYzFD54aE6FkjzQ\"], [\"PlMWfmfy13RCzge897rTyA\", \"plKWWv3fYzFD54aE6FkjzQ\"], [\"plKWWv3fYzFD54aE6FkjzQ\", \"YixspfOM2qqv2WWG9GpEyA\"], [\"30XxHVhSKcEZPc2BSqQreg\", \"WEaoeOWgvXaZL94c-F88FA\"], [\"plKWWv3fYzFD54aE6FkjzQ\", \"JekKDFLO62Hb6VhcnhtnnA\"], [\"plKWWv3fYzFD54aE6FkjzQ\", \"WEaoeOWgvXaZL94c-F88FA\"], [\"WEaoeOWgvXaZL94c-F88FA\", \"30XxHVhSKcEZPc2BSqQreg\"], [\"WEaoeOWgvXaZL94c-F88FA\", \"plKWWv3fYzFD54aE6FkjzQ\"], [\"YixspfOM2qqv2WWG9GpEyA\", \"plKWWv3fYzFD54aE6FkjzQ\"], [\"plKWWv3fYzFD54aE6FkjzQ\", \"PlMWfmfy13RCzge897rTyA\"], [\"JekKDFLO62Hb6VhcnhtnnA\", \"plKWWv3fYzFD54aE6FkjzQ\"], [\"plKWWv3fYzFD54aE6FkjzQ\", \"y31MzuqZonk93go5ZCm4Hw\"], [\"30XxHVhSKcEZPc2BSqQreg\", \"y31MzuqZonk93go5ZCm4Hw\"], [\"plKWWv3fYzFD54aE6FkjzQ\", \"fb13UGoXDWaE-WNP4aZb_w\"], [\"WEaoeOWgvXaZL94c-F88FA\", \"y31MzuqZonk93go5ZCm4Hw\"], [\"plKWWv3fYzFD54aE6FkjzQ\", \"jetrzGo90Sya45AmVURG7Q\"], [\"plKWWv3fYzFD54aE6FkjzQ\", \"3Axd355bo79I80C-_l2v9A\"], [\"30XxHVhSKcEZPc2BSqQreg\", \"3Axd355bo79I80C-_l2v9A\"], [\"WEaoeOWgvXaZL94c-F88FA\", \"3Axd355bo79I80C-_l2v9A\"], [\"plKWWv3fYzFD54aE6FkjzQ\", \"R0nLKkdi3qbRgfD4eYXq8g\"], [\"plKWWv3fYzFD54aE6FkjzQ\", \"VdbpzwKSjYlntgyUEI_hqw\"], [\"sZsvhGVfeORpkbiH5RP6JA\", \"SnN0hLURIxXacM44_IvIKA\"], [\"mBJMFU3OrGVSUGhKR-kZOQ\", \"pCobXgTy6DIfBaT4pjlq0w\"], [\"mBJMFU3OrGVSUGhKR-kZOQ\", \"SlEhu1S3eCAEbIJh0RbM1Q\"], [\"mBJMFU3OrGVSUGhKR-kZOQ\", \"qREmpMNVpYt7ouZWld2cwQ\"], [\"mBJMFU3OrGVSUGhKR-kZOQ\", \"GAVzEV0a4RygTyVJcEShUw\"], [\"mBJMFU3OrGVSUGhKR-kZOQ\", \"SnN0hLURIxXacM44_IvIKA\"], [\"mBJMFU3OrGVSUGhKR-kZOQ\", \"NGa2YV8ijDUBxIv8xBZmGA\"], [\"mBJMFU3OrGVSUGhKR-kZOQ\", \"pjoghjb0ZcuDWHvz02dSVA\"], [\"sZsvhGVfeORpkbiH5RP6JA\", \"ULZvYPzGjF_ZQXmN0qJfOg\"], [\"mBJMFU3OrGVSUGhKR-kZOQ\", \"kilyteUGkGM993c23SRAMg\"], [\"mBJMFU3OrGVSUGhKR-kZOQ\", \"Ostnnvh3RRvKqlMPSwo-ow\"], [\"Ra5lsXTCyGXdwwwrHm_q8Q\", \"Aiywi3Up01jRi5tX9HV-sg\"], [\"mBJMFU3OrGVSUGhKR-kZOQ\", \"qHhQT9p6D7zTLCz8guxqMw\"], [\"mBJMFU3OrGVSUGhKR-kZOQ\", \"v4XMdJX21V_si2L_zwqs9g\"], [\"y31MzuqZonk93go5ZCm4Hw\", \"plKWWv3fYzFD54aE6FkjzQ\"], [\"y31MzuqZonk93go5ZCm4Hw\", \"30XxHVhSKcEZPc2BSqQreg\"], [\"fb13UGoXDWaE-WNP4aZb_w\", \"plKWWv3fYzFD54aE6FkjzQ\"], [\"y31MzuqZonk93go5ZCm4Hw\", \"WEaoeOWgvXaZL94c-F88FA\"], [\"x4jHWeB0qxaVTKhXRHnwhQ\", \"mBJMFU3OrGVSUGhKR-kZOQ\"], [\"mBJMFU3OrGVSUGhKR-kZOQ\", \"x4jHWeB0qxaVTKhXRHnwhQ\"], [\"mBJMFU3OrGVSUGhKR-kZOQ\", \"veyio8Ak-yTXEfE6ipRrjw\"], [\"sZsvhGVfeORpkbiH5RP6JA\", \"qnM6AKaO3_QMkaGxaFyp_w\"], [\"y31MzuqZonk93go5ZCm4Hw\", \"R0nLKkdi3qbRgfD4eYXq8g\"], [\"veyio8Ak-yTXEfE6ipRrjw\", \"377CDhtGrgoNNEnEhf6Ccw\"], [\"cRyNICH0mhjxagvSyVr60Q\", \"Aiywi3Up01jRi5tX9HV-sg\"], [\"3Axd355bo79I80C-_l2v9A\", \"WEaoeOWgvXaZL94c-F88FA\"], [\"3Axd355bo79I80C-_l2v9A\", \"plKWWv3fYzFD54aE6FkjzQ\"], [\"jetrzGo90Sya45AmVURG7Q\", \"plKWWv3fYzFD54aE6FkjzQ\"], [\"3Axd355bo79I80C-_l2v9A\", \"30XxHVhSKcEZPc2BSqQreg\"], [\"veyio8Ak-yTXEfE6ipRrjw\", \"mBJMFU3OrGVSUGhKR-kZOQ\"], [\"ZrYCO-E76miWES5u2Pmc6A\", \"Aiywi3Up01jRi5tX9HV-sg\"], [\"R0nLKkdi3qbRgfD4eYXq8g\", \"plKWWv3fYzFD54aE6FkjzQ\"], [\"VdbpzwKSjYlntgyUEI_hqw\", \"plKWWv3fYzFD54aE6FkjzQ\"], [\"R0nLKkdi3qbRgfD4eYXq8g\", \"y31MzuqZonk93go5ZCm4Hw\"], [\"qnM6AKaO3_QMkaGxaFyp_w\", \"sZsvhGVfeORpkbiH5RP6JA\"]], \"ipython\": true, \"error_msg\": \"\"}, e);\n",
       "                });\n",
       "            })();\n",
       "        "
      ]
     },
     "metadata": {},
     "output_type": "display_data"
    }
   ],
   "source": [
    "neighborhood.show(vlabel='name')"
   ]
  },
  {
   "cell_type": "markdown",
   "metadata": {},
   "source": [
    "In the above examples, it might be helpful to suggest connections between the people separated by short paths in the network."
   ]
  }
 ],
 "metadata": {
  "kernelspec": {
   "display_name": "Python 2",
   "language": "python",
   "name": "python2"
  },
  "language_info": {
   "codemirror_mode": {
    "name": "ipython",
    "version": 2
   },
   "file_extension": ".py",
   "mimetype": "text/x-python",
   "name": "python",
   "nbconvert_exporter": "python",
   "pygments_lexer": "ipython2",
   "version": "2.7.10"
  }
 },
 "nbformat": 4,
 "nbformat_minor": 0
}
